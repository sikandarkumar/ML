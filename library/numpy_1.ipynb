{
 "cells": [
  {
   "cell_type": "code",
   "execution_count": 1,
   "metadata": {},
   "outputs": [],
   "source": [
    "import numpy as np\n",
    "import pandas as pd"
   ]
  },
  {
   "cell_type": "code",
   "execution_count": 2,
   "metadata": {},
   "outputs": [
    {
     "data": {
      "text/plain": [
       "[1, 2, 3]"
      ]
     },
     "execution_count": 2,
     "metadata": {},
     "output_type": "execute_result"
    }
   ],
   "source": [
    "[1,2,3]"
   ]
  },
  {
   "cell_type": "code",
   "execution_count": 3,
   "metadata": {},
   "outputs": [
    {
     "data": {
      "text/plain": [
       "[[1, 2, 3], [4, 5, 6]]"
      ]
     },
     "execution_count": 3,
     "metadata": {},
     "output_type": "execute_result"
    }
   ],
   "source": [
    "[[ 1, 2, 3],[ 4, 5, 6]]"
   ]
  },
  {
   "cell_type": "code",
   "execution_count": 4,
   "metadata": {},
   "outputs": [],
   "source": [
    "a = np.array([1, 2, 3])\n",
    "b = np.array([(1,2,3), (4,5,6)])"
   ]
  },
  {
   "cell_type": "code",
   "execution_count": 5,
   "metadata": {},
   "outputs": [
    {
     "name": "stdout",
     "output_type": "stream",
     "text": [
      "a=\n",
      "[1 2 3]\n",
      "a's ndim 1\n",
      "a's shape (3,)\n",
      "a's size 3\n",
      "a's dtype int32\n",
      "a's itemsize 4\n",
      "\n",
      "b=\n",
      "[[1 2 3]\n",
      " [4 5 6]]\n",
      "b's ndim 2\n",
      "b's shape (2, 3)\n",
      "b's size 6\n",
      "b's dtype int32\n",
      "b's itemsize 4\n"
     ]
    }
   ],
   "source": [
    "a = np.array([1, 2, 3])\n",
    "b = np.array([(1,2,3), (4,5,6)])\n",
    "\n",
    "print('a=')\n",
    "print(a)\n",
    "print(\"a's ndim {}\".format(a.ndim))\n",
    "print(\"a's shape {}\".format(a.shape))\n",
    "print(\"a's size {}\".format(a.size))\n",
    "print(\"a's dtype {}\".format(a.dtype))\n",
    "print(\"a's itemsize {}\".format(a.itemsize))\n",
    "\n",
    "print('')\n",
    "\n",
    "print('b=')\n",
    "print(b)\n",
    "print(\"b's ndim {}\".format(b.ndim))\n",
    "print(\"b's shape {}\".format(b.shape))\n",
    "print(\"b's size {}\".format(b.size))\n",
    "print(\"b's dtype {}\".format(b.dtype))\n",
    "print(\"b's itemsize {}\".format(b.itemsize))"
   ]
  },
  {
   "cell_type": "code",
   "execution_count": 6,
   "metadata": {},
   "outputs": [
    {
     "data": {
      "text/plain": [
       "array([[1.+0.j, 2.+0.j],\n",
       "       [3.+0.j, 4.+0.j]])"
      ]
     },
     "execution_count": 6,
     "metadata": {},
     "output_type": "execute_result"
    }
   ],
   "source": [
    "c = np.array( [ [1,2], [3,4] ], dtype=complex )\n",
    "c"
   ]
  },
  {
   "cell_type": "code",
   "execution_count": 7,
   "metadata": {},
   "outputs": [
    {
     "name": "stdout",
     "output_type": "stream",
     "text": [
      "np.zeros((2,3)= \n",
      "[[0. 0. 0.]\n",
      " [0. 0. 0.]]\n",
      "\n"
     ]
    }
   ],
   "source": [
    "a = np.zeros((2,3))\n",
    "print('np.zeros((2,3)= \\n{}\\n'.format(a))"
   ]
  },
  {
   "cell_type": "code",
   "execution_count": 8,
   "metadata": {},
   "outputs": [
    {
     "name": "stdout",
     "output_type": "stream",
     "text": [
      "np.ones((2,3))= \n",
      "[[1. 1. 1.]\n",
      " [1. 1. 1.]]\n",
      "\n"
     ]
    }
   ],
   "source": [
    "b = np.ones((2,3))\n",
    "print('np.ones((2,3))= \\n{}\\n'.format(b))"
   ]
  },
  {
   "cell_type": "code",
   "execution_count": 9,
   "metadata": {},
   "outputs": [
    {
     "name": "stdout",
     "output_type": "stream",
     "text": [
      "np.empty((2,3))= \n",
      "[[1. 1. 1.]\n",
      " [1. 1. 1.]]\n",
      "\n"
     ]
    }
   ],
   "source": [
    "c = np.empty((2,3))\n",
    "print('np.empty((2,3))= \\n{}\\n'.format(c))"
   ]
  },
  {
   "cell_type": "code",
   "execution_count": 10,
   "metadata": {},
   "outputs": [
    {
     "name": "stdout",
     "output_type": "stream",
     "text": [
      "np.arange(1, 2, 0.3)= \n",
      "[1.  1.3 1.6 1.9]\n",
      "\n"
     ]
    }
   ],
   "source": [
    "d = np.arange(1, 2, 0.3)\n",
    "print('np.arange(1, 2, 0.3)= \\n{}\\n'.format(d))"
   ]
  },
  {
   "cell_type": "code",
   "execution_count": 11,
   "metadata": {},
   "outputs": [
    {
     "name": "stdout",
     "output_type": "stream",
     "text": [
      "np.linspace(1, 2, 7)= \n",
      "[1.         1.16666667 1.33333333 1.5        1.66666667 1.83333333\n",
      " 2.        ]\n",
      "\n"
     ]
    }
   ],
   "source": [
    "e = np.linspace(1, 2, 7)\n",
    "print('np.linspace(1, 2, 7)= \\n{}\\n'.format(e))"
   ]
  },
  {
   "cell_type": "code",
   "execution_count": 12,
   "metadata": {},
   "outputs": [
    {
     "name": "stdout",
     "output_type": "stream",
     "text": [
      "np.random.random((2,3))= \n",
      "[[0.80999946 0.62927696 0.04323999]\n",
      " [0.28878319 0.35671179 0.7519614 ]]\n",
      "\n"
     ]
    }
   ],
   "source": [
    "f = np.random.random((2,3))\n",
    "print('np.random.random((2,3))= \\n{}\\n'.format(f))"
   ]
  },
  {
   "cell_type": "code",
   "execution_count": 13,
   "metadata": {},
   "outputs": [
    {
     "name": "stdout",
     "output_type": "stream",
     "text": [
      "zero_line = \n",
      "[[0. 0. 0.]]\n",
      "\n",
      "one_column = \n",
      "[[1.]\n",
      " [1.]\n",
      " [1.]]\n",
      "\n",
      "a = \n",
      "[[1 2 3]\n",
      " [4 5 6]]\n",
      "\n",
      "b = \n",
      "[11 12 13 14 15 16 17 18 19]\n",
      "\n"
     ]
    }
   ],
   "source": [
    "zero_line = np.zeros((1,3))\n",
    "one_column = np.ones((3,1))\n",
    "print(\"zero_line = \\n{}\\n\".format(zero_line))\n",
    "print(\"one_column = \\n{}\\n\".format(one_column))\n",
    "\n",
    "a = np.array([(1,2,3), (4,5,6)])\n",
    "b = np.arange(11, 20)\n",
    "print(\"a = \\n{}\\n\".format(a))\n",
    "print(\"b = \\n{}\\n\".format(b))"
   ]
  },
  {
   "cell_type": "code",
   "execution_count": 14,
   "metadata": {},
   "outputs": [
    {
     "name": "stdout",
     "output_type": "stream",
     "text": [
      "b.reshape(3, -1) = \n",
      "[[11 12 13]\n",
      " [14 15 16]\n",
      " [17 18 19]]\n",
      "\n"
     ]
    }
   ],
   "source": [
    "b = b.reshape(3, -1)\n",
    "print(\"b.reshape(3, -1) = \\n{}\\n\".format(b))"
   ]
  },
  {
   "cell_type": "code",
   "execution_count": 15,
   "metadata": {},
   "outputs": [
    {
     "data": {
      "text/plain": [
       "array([[11, 12, 13],\n",
       "       [14, 15, 16],\n",
       "       [17, 18, 19]])"
      ]
     },
     "execution_count": 15,
     "metadata": {},
     "output_type": "execute_result"
    }
   ],
   "source": [
    "b.reshape(3, -1)"
   ]
  },
  {
   "cell_type": "code",
   "execution_count": 16,
   "metadata": {},
   "outputs": [
    {
     "name": "stdout",
     "output_type": "stream",
     "text": [
      "c = np.vstack((a,b, zero_line)) = \n",
      "[[ 1.  2.  3.]\n",
      " [ 4.  5.  6.]\n",
      " [11. 12. 13.]\n",
      " [14. 15. 16.]\n",
      " [17. 18. 19.]\n",
      " [ 0.  0.  0.]]\n",
      "\n"
     ]
    }
   ],
   "source": [
    "c = np.vstack((a, b, zero_line))\n",
    "print(\"c = np.vstack((a,b, zero_line)) = \\n{}\\n\".format(c))"
   ]
  },
  {
   "cell_type": "code",
   "execution_count": 17,
   "metadata": {},
   "outputs": [
    {
     "name": "stdout",
     "output_type": "stream",
     "text": [
      "a.reshape(3, 2) = \n",
      "[[1 2]\n",
      " [3 4]\n",
      " [5 6]]\n",
      "\n"
     ]
    }
   ],
   "source": [
    "a = a.reshape(3, 2)\n",
    "print(\"a.reshape(3, 2) = \\n{}\\n\".format(a))"
   ]
  },
  {
   "cell_type": "code",
   "execution_count": 18,
   "metadata": {},
   "outputs": [
    {
     "name": "stdout",
     "output_type": "stream",
     "text": [
      "d = np.hstack((a,b, one_column)) = \n",
      "[[ 1.  2. 11. 12. 13.  1.]\n",
      " [ 3.  4. 14. 15. 16.  1.]\n",
      " [ 5.  6. 17. 18. 19.  1.]]\n",
      "\n"
     ]
    }
   ],
   "source": [
    "d = np.hstack((a, b, one_column))\n",
    "print(\"d = np.hstack((a,b, one_column)) = \\n{}\\n\".format(d))"
   ]
  },
  {
   "cell_type": "code",
   "execution_count": 19,
   "metadata": {},
   "outputs": [
    {
     "name": "stdout",
     "output_type": "stream",
     "text": [
      "e = np.hsplit(d, 3) = \n",
      "[array([[1., 2.],\n",
      "       [3., 4.],\n",
      "       [5., 6.]]), array([[11., 12.],\n",
      "       [14., 15.],\n",
      "       [17., 18.]]), array([[13.,  1.],\n",
      "       [16.,  1.],\n",
      "       [19.,  1.]])]\n",
      "\n",
      "e[1] = \n",
      "[[11. 12.]\n",
      " [14. 15.]\n",
      " [17. 18.]]\n",
      "\n"
     ]
    }
   ],
   "source": [
    "e = np.hsplit(d, 3) # Split a into 3\n",
    "print(\"e = np.hsplit(d, 3) = \\n{}\\n\".format(e))\n",
    "print(\"e[1] = \\n{}\\n\".format(e[1]))"
   ]
  },
  {
   "cell_type": "code",
   "execution_count": 20,
   "metadata": {},
   "outputs": [
    {
     "name": "stdout",
     "output_type": "stream",
     "text": [
      "f = np.hsplit(d, (1, 3)) = \n",
      "[array([[1.],\n",
      "       [3.],\n",
      "       [5.]]), array([[ 2., 11.],\n",
      "       [ 4., 14.],\n",
      "       [ 6., 17.]]), array([[12., 13.,  1.],\n",
      "       [15., 16.,  1.],\n",
      "       [18., 19.,  1.]])]\n",
      "\n"
     ]
    }
   ],
   "source": [
    "f = np.hsplit(d, (1, 3)) # # Split a after the 1st and the 3rd column\n",
    "print(\"f = np.hsplit(d, (1, 3)) = \\n{}\\n\".format(f))"
   ]
  },
  {
   "cell_type": "code",
   "execution_count": 21,
   "metadata": {},
   "outputs": [
    {
     "name": "stdout",
     "output_type": "stream",
     "text": [
      "np.hsplit(d, 2) = \n",
      "[array([[ 1.,  2., 11., 12., 13.,  1.]]), array([[ 3.,  4., 14., 15., 16.,  1.]]), array([[ 5.,  6., 17., 18., 19.,  1.]])]\n",
      "\n"
     ]
    }
   ],
   "source": [
    "g = np.vsplit(d, 3)\n",
    "print(\"np.hsplit(d, 2) = \\n{}\\n\".format(g))\n",
    "\n",
    "# np.vsplit(d, 2) # ValueError: array split does not result in an equal division"
   ]
  },
  {
   "cell_type": "code",
   "execution_count": 22,
   "metadata": {},
   "outputs": [
    {
     "name": "stdout",
     "output_type": "stream",
     "text": [
      "base_data\n",
      "=[100 101 102 103 104 105 106 107 108 109 110 111 112 113 114 115 116 117\n",
      " 118 119 120 121 122 123 124 125 126 127 128 129 130 131 132 133 134 135\n",
      " 136 137 138 139 140 141 142 143 144 145 146 147 148 149 150 151 152 153\n",
      " 154 155 156 157 158 159 160 161 162 163 164 165 166 167 168 169 170 171\n",
      " 172 173 174 175 176 177 178 179 180 181 182 183 184 185 186 187 188 189\n",
      " 190 191 192 193 194 195 196 197 198 199]\n",
      "\n",
      "base_data[10] = 110\n",
      "\n"
     ]
    }
   ],
   "source": [
    "base_data = np.arange(100, 200)\n",
    "print(\"base_data\\n={}\\n\".format(base_data))\n",
    "\n",
    "print(\"base_data[10] = {}\\n\".format(base_data[10]))"
   ]
  },
  {
   "cell_type": "code",
   "execution_count": 23,
   "metadata": {},
   "outputs": [
    {
     "name": "stdout",
     "output_type": "stream",
     "text": [
      "base_data[every_five] = \n",
      "[100 105 110 115 120 125 130 135 140 145 150 155 160 165 170 175 180 185\n",
      " 190 195]\n",
      "\n"
     ]
    }
   ],
   "source": [
    "every_five = np.arange(0, 100, 5)\n",
    "print(\"base_data[every_five] = \\n{}\\n\".format(\n",
    "    base_data[every_five]))"
   ]
  },
  {
   "cell_type": "code",
   "execution_count": 24,
   "metadata": {},
   "outputs": [
    {
     "name": "stdout",
     "output_type": "stream",
     "text": [
      "a = \n",
      "[[ 1  2]\n",
      " [10 20]]\n",
      "\n",
      "base_data[a] = \n",
      "[[101 102]\n",
      " [110 120]]\n",
      "\n"
     ]
    }
   ],
   "source": [
    "a = np.array([(1,2), (10,20)])\n",
    "print(\"a = \\n{}\\n\".format(a))\n",
    "print(\"base_data[a] = \\n{}\\n\".format(base_data[a]))"
   ]
  },
  {
   "cell_type": "code",
   "execution_count": 25,
   "metadata": {},
   "outputs": [
    {
     "name": "stdout",
     "output_type": "stream",
     "text": [
      "base_data2 = np.reshape(base_data, (10, -1)) = \n",
      "[[100 101 102 103 104 105 106 107 108 109]\n",
      " [110 111 112 113 114 115 116 117 118 119]\n",
      " [120 121 122 123 124 125 126 127 128 129]\n",
      " [130 131 132 133 134 135 136 137 138 139]\n",
      " [140 141 142 143 144 145 146 147 148 149]\n",
      " [150 151 152 153 154 155 156 157 158 159]\n",
      " [160 161 162 163 164 165 166 167 168 169]\n",
      " [170 171 172 173 174 175 176 177 178 179]\n",
      " [180 181 182 183 184 185 186 187 188 189]\n",
      " [190 191 192 193 194 195 196 197 198 199]]\n",
      "\n"
     ]
    }
   ],
   "source": [
    "base_data2 = base_data.reshape(10, -1)\n",
    "print(\"base_data2 = np.reshape(base_data, (10, -1)) = \\n{}\\n\".format(base_data2))"
   ]
  },
  {
   "cell_type": "code",
   "execution_count": 26,
   "metadata": {},
   "outputs": [
    {
     "name": "stdout",
     "output_type": "stream",
     "text": [
      "base_data2[2] = \n",
      "[120 121 122 123 124 125 126 127 128 129]\n",
      "\n",
      "base_data2[2, 3] = \n",
      "123\n",
      "\n",
      "base_data2[-1, -1] = \n",
      "199\n",
      "\n"
     ]
    }
   ],
   "source": [
    "print(\"base_data2[2] = \\n{}\\n\".format(base_data2[2]))\n",
    "print(\"base_data2[2, 3] = \\n{}\\n\".format(base_data2[2, 3]))\n",
    "print(\"base_data2[-1, -1] = \\n{}\\n\".format(base_data2[-1, -1]))"
   ]
  },
  {
   "cell_type": "code",
   "execution_count": 27,
   "metadata": {},
   "outputs": [
    {
     "name": "stdout",
     "output_type": "stream",
     "text": [
      "base_data2[2, :]] = \n",
      "[120 121 122 123 124 125 126 127 128 129]\n",
      "\n",
      "base_data2[:, 3]] = \n",
      "[103 113 123 133 143 153 163 173 183 193]\n",
      "\n",
      "base_data2[2:5, 2:4]] = \n",
      "[[122 123]\n",
      " [132 133]\n",
      " [142 143]]\n",
      "\n"
     ]
    }
   ],
   "source": [
    "print(\"base_data2[2, :]] = \\n{}\\n\".format(base_data2[2, :]))\n",
    "print(\"base_data2[:, 3]] = \\n{}\\n\".format(base_data2[:, 3]))\n",
    "print(\"base_data2[2:5, 2:4]] = \\n{}\\n\".format(base_data2[2:5, 2:4]))"
   ]
  },
  {
   "cell_type": "code",
   "execution_count": 28,
   "metadata": {},
   "outputs": [
    {
     "name": "stdout",
     "output_type": "stream",
     "text": [
      "base_data = \n",
      "[[-17.00053909 -43.72363017  -3.94219155 -14.67446462  15.34036244]\n",
      " [ 35.64384077 -48.11001431 -20.48703292  17.33442217  18.04054625]\n",
      " [ 16.42114178 -33.32349928   4.55436278  -9.97850184 -24.1955635 ]\n",
      " [ 14.99955296 -43.22161081  29.50867283 -35.03338348 -39.17433021]\n",
      " [-42.28920203  18.68673589  26.87751235  25.01170346 -21.74617547]]\n",
      "\n",
      "np.amin(base_data) = -48.11001431195291\n",
      "np.amax(base_data) = 35.643840774956395\n",
      "np.average(base_data) = -6.97925142386465\n",
      "np.sum(base_data) = -174.48128559661623\n",
      "np.sin(base_data) = \n",
      "[[ 0.96154569  0.2557921   0.71777322 -0.85909491  0.35937758]\n",
      " [-0.88491971  0.83389326 -0.99777767 -0.99845124 -0.72360399]\n",
      " [-0.65424094 -0.94382479 -0.98753982  0.5258583   0.80589034]\n",
      " [ 0.65062739  0.68941877 -0.94393016  0.45810689 -0.9954359 ]\n",
      " [ 0.99253082 -0.16210158  0.98490452 -0.12074245 -0.24253023]]\n"
     ]
    }
   ],
   "source": [
    "base_data = (np.random.random((5, 5)) - 0.5) * 100\n",
    "print(\"base_data = \\n{}\\n\".format(base_data))\n",
    "\n",
    "print(\"np.amin(base_data) = {}\".format(np.amin(base_data)))\n",
    "print(\"np.amax(base_data) = {}\".format(np.amax(base_data)))\n",
    "print(\"np.average(base_data) = {}\".format(np.average(base_data)))\n",
    "print(\"np.sum(base_data) = {}\".format(np.sum(base_data)))\n",
    "print(\"np.sin(base_data) = \\n{}\".format(np.sin(base_data)))"
   ]
  },
  {
   "cell_type": "code",
   "execution_count": 29,
   "metadata": {},
   "outputs": [
    {
     "name": "stdout",
     "output_type": "stream",
     "text": [
      "Multpiles:  [  1   4   9  16  25  36  49  64  81 100 121 144 169 196 225 256 289 324\n",
      " 361]\n",
      "Substracts:  [0 0 0 0 0 0 0 0 0 0 0 0 0 0 0 0 0 0 0]\n",
      "Add:  [ 2  4  6  8 10 12 14 16 18 20 22 24 26 28 30 32 34 36 38]\n",
      "Divide:  [1. 1. 1. 1. 1. 1. 1. 1. 1. 1. 1. 1. 1. 1. 1. 1. 1. 1. 1.]\n",
      "Add +50:  [51 52 53 54 55 56 57 58 59 60 61 62 63 64 65 66 67 68 69]\n"
     ]
    }
   ],
   "source": [
    "arr = np.arange(1,20)\n",
    "arr = arr * arr              #Multiplies each element by itself \n",
    "print(\"Multpiles: \",arr)\n",
    "arr = arr - arr              #Subtracts each element from itself\n",
    "print(\"Substracts: \",arr)\n",
    "arr = np.arange(1,20)\n",
    "arr = arr + arr              #Adds each element to itself\n",
    "print(\"Add: \",arr)\n",
    "arr = arr / arr              #Divides each element by itself\n",
    "print(\"Divide: \",arr)\n",
    "arr = np.arange(1,20)\n",
    "arr = arr + 50\n",
    "print(\"Add +50: \",arr)"
   ]
  },
  {
   "cell_type": "code",
   "execution_count": 30,
   "metadata": {},
   "outputs": [
    {
     "name": "stdout",
     "output_type": "stream",
     "text": [
      "Sqrt:  [7.14142843 7.21110255 7.28010989 7.34846923 7.41619849 7.48331477\n",
      " 7.54983444 7.61577311 7.68114575 7.74596669 7.81024968 7.87400787\n",
      " 7.93725393 8.         8.06225775 8.1240384  8.18535277 8.24621125\n",
      " 8.30662386]\n",
      "Exp:  [1.40934908e+22 3.83100800e+22 1.04137594e+23 2.83075330e+23\n",
      " 7.69478527e+23 2.09165950e+24 5.68572000e+24 1.54553894e+25\n",
      " 4.20121040e+25 1.14200739e+26 3.10429794e+26 8.43835667e+26\n",
      " 2.29378316e+27 6.23514908e+27 1.69488924e+28 4.60718663e+28\n",
      " 1.25236317e+29 3.40427605e+29 9.25378173e+29]\n",
      "Sin:  [ 0.67022918  0.98662759  0.39592515 -0.55878905 -0.99975517 -0.521551\n",
      "  0.43616476  0.99287265  0.63673801 -0.30481062 -0.96611777 -0.7391807\n",
      "  0.1673557   0.92002604  0.82682868 -0.02655115 -0.85551998 -0.89792768\n",
      " -0.11478481]\n",
      "Cos:  [ 0.7421542  -0.16299078 -0.91828279 -0.82930983  0.02212676  0.85322011\n",
      "  0.89986683  0.11918014 -0.77108022 -0.95241298 -0.25810164  0.67350716\n",
      "  0.98589658  0.39185723 -0.56245385 -0.99964746 -0.5177698   0.44014302\n",
      "  0.99339038]\n",
      "Log:  [3.93182563 3.95124372 3.97029191 3.98898405 4.00733319 4.02535169\n",
      " 4.04305127 4.06044301 4.07753744 4.09434456 4.11087386 4.12713439\n",
      " 4.14313473 4.15888308 4.17438727 4.18965474 4.20469262 4.21950771\n",
      " 4.2341065 ]\n",
      "Sum:  1140\n",
      "Std:  5.477225575051661\n"
     ]
    }
   ],
   "source": [
    "print(\"Sqrt: \",np.sqrt(arr))#Returns the square root of each element \n",
    "print(\"Exp: \",np.exp(arr))     #Returns the exponentials of each element\n",
    "print(\"Sin: \",np.sin(arr))     #Returns the sin of each element\n",
    "print(\"Cos: \",np.cos(arr))     #Returns the cosine of each element\n",
    "print(\"Log: \",np.log(arr))     #Returns the logarithm of each element\n",
    "print(\"Sum: \",np.sum(arr))     #Returns the sum total of elements in the array\n",
    "print(\"Std: \",np.std(arr))     #Returns the standard deviation of in the array"
   ]
  },
  {
   "cell_type": "code",
   "execution_count": 31,
   "metadata": {},
   "outputs": [
    {
     "name": "stdout",
     "output_type": "stream",
     "text": [
      "base_data = \n",
      "[[ 12.  34.  24.  48. -41.]\n",
      " [-14.   4. -42.  37.  49.]\n",
      " [ 12.   5. -43. -18. -35.]\n",
      " [ 32.  -6.   1.   6. -28.]\n",
      " [ 18.   3. -26. -24. -15.]]\n",
      "\n",
      "base_data.T = \n",
      "[[ 12. -14.  12.  32.  18.]\n",
      " [ 34.   4.   5.  -6.   3.]\n",
      " [ 24. -42. -43.   1. -26.]\n",
      " [ 48.  37. -18.   6. -24.]\n",
      " [-41.  49. -35. -28. -15.]]\n",
      "\n",
      "base_data.transpose() = \n",
      "[[ 12. -14.  12.  32.  18.]\n",
      " [ 34.   4.   5.  -6.   3.]\n",
      " [ 24. -42. -43.   1. -26.]\n",
      " [ 48.  37. -18.   6. -24.]\n",
      " [-41.  49. -35. -28. -15.]]\n",
      "\n",
      "matrix_one = \n",
      "[[1. 1. 1. 1. 1.]\n",
      " [1. 1. 1. 1. 1.]\n",
      " [1. 1. 1. 1. 1.]\n",
      " [1. 1. 1. 1. 1.]\n",
      " [1. 1. 1. 1. 1.]]\n",
      "\n",
      "minus_one = \n",
      "[[-1. -1. -1. -1. -1.]\n",
      " [-1. -1. -1. -1. -1.]\n",
      " [-1. -1. -1. -1. -1.]\n",
      " [-1. -1. -1. -1. -1.]\n",
      " [-1. -1. -1. -1. -1.]]\n",
      "\n",
      "np.dot(base_data, minus_one) = \n",
      "[[-77. -77. -77. -77. -77.]\n",
      " [-34. -34. -34. -34. -34.]\n",
      " [ 79.  79.  79.  79.  79.]\n",
      " [ -5.  -5.  -5.  -5.  -5.]\n",
      " [ 44.  44.  44.  44.  44.]]\n",
      "\n"
     ]
    }
   ],
   "source": [
    "base_data = np.floor((np.random.random((5, 5)) - 0.5) * 100)\n",
    "print(\"base_data = \\n{}\\n\".format(base_data))\n",
    "\n",
    "print(\"base_data.T = \\n{}\\n\".format(base_data.T))\n",
    "print(\"base_data.transpose() = \\n{}\\n\".format(base_data.transpose()))\n",
    "\n",
    "matrix_one = np.ones((5, 5))\n",
    "print(\"matrix_one = \\n{}\\n\".format(matrix_one))\n",
    "\n",
    "minus_one = np.dot(matrix_one, -1)\n",
    "print(\"minus_one = \\n{}\\n\".format(minus_one))\n",
    "\n",
    "print(\"np.dot(base_data, minus_one) = \\n{}\\n\".format(\n",
    "    np.dot(base_data, minus_one)))"
   ]
  },
  {
   "cell_type": "code",
   "execution_count": 32,
   "metadata": {},
   "outputs": [
    {
     "name": "stdout",
     "output_type": "stream",
     "text": [
      "random: [0.71060341 0.76668047 0.0163132  0.67575135 0.42364544 0.96489328\n",
      " 0.76115355 0.84876509 0.25314854 0.12416551 0.13005697 0.71798265\n",
      " 0.76080886 0.87509563 0.1388962  0.9114794  0.16617174 0.80551201\n",
      " 0.84223476 0.89080773]\n",
      "\n",
      "rand: [[0.76039142 0.0202115  0.67353222 0.53893426]\n",
      " [0.04113526 0.30333927 0.69830428 0.4177254 ]\n",
      " [0.94472312 0.98537139 0.56881304 0.67700221]]\n",
      "\n",
      "randint: [47 67 83 93 57 27 48 72 20 37 79 93 98 17 47 10 44 63 12 48]\n",
      "\n",
      "permutation: [ 2  5 19 12 14 13  7 11  9  3  4 10 18  1  6  8  0 17 16 15]\n",
      "\n"
     ]
    }
   ],
   "source": [
    "print(\"random: {}\\n\".format(np.random.random(20)));\n",
    "\n",
    "print(\"rand: {}\\n\".format(np.random.rand(3, 4)));\n",
    "\n",
    "print(\"randint: {}\\n\".format(np.random.randint(0, 100, 20)));\n",
    "\n",
    "print(\"permutation: {}\\n\".format(np.random.permutation(np.arange(20))));"
   ]
  },
  {
   "cell_type": "code",
   "execution_count": null,
   "metadata": {},
   "outputs": [],
   "source": []
  }
 ],
 "metadata": {
  "kernelspec": {
   "display_name": "Python 3",
   "language": "python",
   "name": "python3"
  },
  "language_info": {
   "codemirror_mode": {
    "name": "ipython",
    "version": 3
   },
   "file_extension": ".py",
   "mimetype": "text/x-python",
   "name": "python",
   "nbconvert_exporter": "python",
   "pygments_lexer": "ipython3",
   "version": "3.7.3"
  }
 },
 "nbformat": 4,
 "nbformat_minor": 2
}
